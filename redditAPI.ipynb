{
 "cells": [
  {
   "cell_type": "code",
   "execution_count": 14,
   "metadata": {},
   "outputs": [
    {
     "data": {
      "text/plain": [
       "20"
      ]
     },
     "execution_count": 14,
     "metadata": {},
     "output_type": "execute_result"
    }
   ],
   "source": [
    "# Check how many processes are available on your machine\n",
    "import multiprocessing\n",
    "multiprocessing.cpu_count()"
   ]
  },
  {
   "cell_type": "code",
   "execution_count": 2,
   "metadata": {},
   "outputs": [],
   "source": [
    "import praw\n",
    "import json\n",
    "import string\n",
    "\n",
    "\n",
    "# function to preprocess text for Misra-Gries algorithm\n",
    "import re\n",
    "def preprocess(text):\n",
    "    # define regular expression pattern to match links, numbers, and punctuation\n",
    "    pattern = re.compile(r'\\bhttps?://\\S+|\\b\\d+\\b|\\b\\w+')\n",
    "    # split the text into a list of words and apply the transformations\n",
    "    words = [word.lower().replace('...', '').replace('\\n', '').replace('\\t', '').replace('’', '').encode('ascii', 'ignore').decode('ascii') for word in pattern.findall(text) if not word.isdigit()]\n",
    "    # join the words back into a single string with spaces\n",
    "    return ' '.join(words)\n",
    "\n",
    "\n",
    "\n",
    "def process_subreddit(subreddit):\n",
    "    subreddit_top_comments = []\n",
    "    for post in subreddit.hot(limit=100):\n",
    "        comments = post.comments.list()[:100]\n",
    "        for comment in comments:\n",
    "            if isinstance(comment, praw.models.MoreComments):\n",
    "                continue\n",
    "            subreddit_top_comments.append(comment.body)\n",
    "    # preprocess text\n",
    "    subreddit_top_comments = [preprocess(comment) for comment in subreddit_top_comments]\n",
    "    # write to file with subreddit name\n",
    "    with open(subreddit.display_name + '.txt', 'w') as f:\n",
    "        for comment in subreddit_top_comments:\n",
    "            f.write(comment + '\\n')\n",
    "\n",
    "\n",
    "# load credentials from file\n",
    "with open('client_secret.json') as f:\n",
    "    data = json.load(f)\n",
    "    client_id = data['client_id']\n",
    "    client_secret = data['client_secret']\n",
    "    user_agent = data['user_agent']\n",
    "\n",
    "reddit = praw.Reddit(client_id=client_id, client_secret=client_secret, user_agent=user_agent)\n",
    "\n",
    "# get the top 25 subreddits minus the first 1\n",
    "subreddits = list(reddit.subreddits.popular(limit=25))[1:]\n",
    "\n",
    "\n",
    "for subreddit in subreddits:\n",
    "    process_subreddit(subreddit)\n",
    "\n",
    "\n",
    "\n",
    "\n"
   ]
  }
 ],
 "metadata": {
  "kernelspec": {
   "display_name": "base",
   "language": "python",
   "name": "python3"
  },
  "language_info": {
   "codemirror_mode": {
    "name": "ipython",
    "version": 3
   },
   "file_extension": ".py",
   "mimetype": "text/x-python",
   "name": "python",
   "nbconvert_exporter": "python",
   "pygments_lexer": "ipython3",
   "version": "3.9.13"
  },
  "orig_nbformat": 4
 },
 "nbformat": 4,
 "nbformat_minor": 2
}
