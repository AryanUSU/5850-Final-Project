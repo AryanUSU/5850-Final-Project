{
 "cells": [
  {
   "cell_type": "code",
   "execution_count": 4,
   "metadata": {},
   "outputs": [
    {
     "ename": "AttributeError",
     "evalue": "'MoreComments' object has no attribute 'body'",
     "output_type": "error",
     "traceback": [
      "\u001b[1;31m---------------------------------------------------------------------------\u001b[0m",
      "\u001b[1;31mAttributeError\u001b[0m                            Traceback (most recent call last)",
      "\u001b[1;32m~\\AppData\\Local\\Temp\\ipykernel_23184\\848899048.py\u001b[0m in \u001b[0;36m<module>\u001b[1;34m\u001b[0m\n\u001b[0;32m     52\u001b[0m         \u001b[0mcomments\u001b[0m \u001b[1;33m=\u001b[0m \u001b[0mpost\u001b[0m\u001b[1;33m.\u001b[0m\u001b[0mcomments\u001b[0m\u001b[1;33m.\u001b[0m\u001b[0mlist\u001b[0m\u001b[1;33m(\u001b[0m\u001b[1;33m)\u001b[0m\u001b[1;33m[\u001b[0m\u001b[1;33m:\u001b[0m\u001b[1;36m100\u001b[0m\u001b[1;33m]\u001b[0m\u001b[1;33m\u001b[0m\u001b[1;33m\u001b[0m\u001b[0m\n\u001b[0;32m     53\u001b[0m         \u001b[1;32mfor\u001b[0m \u001b[0mcomment\u001b[0m \u001b[1;32min\u001b[0m \u001b[0mcomments\u001b[0m\u001b[1;33m:\u001b[0m\u001b[1;33m\u001b[0m\u001b[1;33m\u001b[0m\u001b[0m\n\u001b[1;32m---> 54\u001b[1;33m             \u001b[0msubreddit_top_comments\u001b[0m\u001b[1;33m.\u001b[0m\u001b[0mappend\u001b[0m\u001b[1;33m(\u001b[0m\u001b[0mcomment\u001b[0m\u001b[1;33m.\u001b[0m\u001b[0mbody\u001b[0m\u001b[1;33m)\u001b[0m\u001b[1;33m\u001b[0m\u001b[1;33m\u001b[0m\u001b[0m\n\u001b[0m\u001b[0;32m     55\u001b[0m \u001b[1;33m\u001b[0m\u001b[0m\n\u001b[0;32m     56\u001b[0m     \u001b[1;31m# preprocess text\u001b[0m\u001b[1;33m\u001b[0m\u001b[1;33m\u001b[0m\u001b[0m\n",
      "\u001b[1;31mAttributeError\u001b[0m: 'MoreComments' object has no attribute 'body'"
     ]
    }
   ],
   "source": [
    "import praw\n",
    "import json\n",
    "import string\n",
    "\n",
    "\n",
    "# function to preprocess text for Misra-Gries algorithm\n",
    "def preprocess(text):\n",
    "    # remove links\n",
    "    text = ' '.join(word for word in text.split() if 'http' not in word)\n",
    "\n",
    "    # remove punctuation\n",
    "    text = text.translate(str.maketrans('', '', string.punctuation))\n",
    "    # remove numbers\n",
    "    text = text.translate(str.maketrans('', '', string.digits))\n",
    "    # remove whitespace\n",
    "    text = text.strip()\n",
    "    # convert to lowercase\n",
    "    text = text.lower()\n",
    "    # remove ellipsis\n",
    "    text = text.replace('...', '')\n",
    "    # remove newlines\n",
    "    text = text.replace('\\n', '')\n",
    "    # remove tabs\n",
    "    text = text.replace('\\t', '')\n",
    "    # remove multiple spaces\n",
    "    text = ' '.join(text.split())\n",
    "    # remove leading and trailing whitespace\n",
    "    text = text.strip()\n",
    "    # remove apostrophes\n",
    "    text = text.replace('’', '')\n",
    "    # remove emojis\n",
    "    text = text.encode('ascii', 'ignore').decode('ascii')\n",
    "    \n",
    "    return text\n",
    "\n",
    "\n",
    "\n",
    "# load credentials from file\n",
    "with open('client_secret.json') as f:\n",
    "    data = json.load(f)\n",
    "    client_id = data['client_id']\n",
    "    client_secret = data['client_secret']\n",
    "    user_agent = data['user_agent']\n",
    "\n",
    "reddit = praw.Reddit(client_id=client_id, client_secret=client_secret, user_agent=user_agent)\n",
    "\n",
    "\n",
    "subreddits = reddit.subreddits.popular(limit=25)\n",
    "for subreddit in subreddits:\n",
    "    subreddit_top_comments = []\n",
    "    for post in subreddit.hot(limit=100):\n",
    "        comments = post.comments.list()[:100]\n",
    "        for comment in comments:\n",
    "            subreddit_top_comments.append(comment.body)\n",
    "    # preprocess text\n",
    "    subreddit_top_comments = [preprocess(comment) for comment in subreddit_top_comments]\n",
    "    # write to file with subreddit name\n",
    "    with open(subreddit.display_name + '.txt', 'w') as f:\n",
    "        for comment in subreddit_top_comments:\n",
    "            f.write(comment + '\\n')\n",
    "\n",
    "\n",
    "\n"
   ]
  },
  {
   "cell_type": "code",
   "execution_count": 12,
   "metadata": {},
   "outputs": [
    {
     "name": "stdout",
     "output_type": "stream",
     "text": [
      "['Home', 'AskReddit', 'funny', 'Damnthatsinteresting', 'worldnews', 'AmItheAsshole', 'interestingasfuck', 'antiwork', 'facepalm', 'gaming', 'Unexpected', 'pics', 'WhitePeopleTwitter', 'LivestreamFail', 'pcmasterrace', 'movies', 'therewasanattempt', 'leagueoflegends', 'diablo4', 'videos', 'DestinyTheGame', 'PublicFreakout', 'mildlyinfuriating', 'NoStupidQuestions', 'explainlikeimfive']\n"
     ]
    }
   ],
   "source": [
    "subreddits = reddit.subreddits.popular(limit=25)\n",
    "subreddit_hold = []\n",
    "for subreddit in subreddits:\n",
    "    subreddit_hold.append(subreddit.display_name)\n",
    "\n",
    "    \n",
    "subreddit = reddit.subreddit(subreddit_hold[0])\n",
    "subreddit_top_comments = []\n",
    "# Get the top 100 hot posts from the subreddit\n",
    "hot_posts = subreddit.hot(limit=100)\n",
    "for post in hot_posts:\n",
    "    # Get top 100 comments from the post\n",
    "    comments = post.comments.list()[:100]\n",
    "    for comment in comments:\n",
    "        subreddit_top_comments.append(comment.body)\n",
    "# preprocess text\n",
    "subreddit_top_comments = [preprocess(comment) for comment in subreddit_top_comments]\n",
    "# write to file with subreddit name\n",
    "with open(subreddit.display_name + '.txt', 'w') as f:\n",
    "    for comment in subreddit_top_comments:\n",
    "        f.write(comment + '\\n')\n",
    "\n",
    "\n",
    "\n",
    "\n"
   ]
  }
 ],
 "metadata": {
  "kernelspec": {
   "display_name": "base",
   "language": "python",
   "name": "python3"
  },
  "language_info": {
   "codemirror_mode": {
    "name": "ipython",
    "version": 3
   },
   "file_extension": ".py",
   "mimetype": "text/x-python",
   "name": "python",
   "nbconvert_exporter": "python",
   "pygments_lexer": "ipython3",
   "version": "3.9.13"
  },
  "orig_nbformat": 4
 },
 "nbformat": 4,
 "nbformat_minor": 2
}
