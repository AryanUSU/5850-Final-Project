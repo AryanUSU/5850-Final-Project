{
 "cells": [
  {
   "cell_type": "code",
   "execution_count": 2,
   "metadata": {},
   "outputs": [],
   "source": [
    "import praw\n",
    "import json\n",
    "import string\n",
    "\n",
    "\n",
    "# function to preprocess text for Misra-Gries algorithm\n",
    "def preprocess(text):\n",
    "    # remove links\n",
    "    text = ' '.join(word for word in text.split() if 'http' not in word)\n",
    "\n",
    "    # remove punctuation\n",
    "    text = text.translate(str.maketrans('', '', string.punctuation))\n",
    "    # remove numbers\n",
    "    text = text.translate(str.maketrans('', '', string.digits))\n",
    "    # remove whitespace\n",
    "    text = text.strip()\n",
    "    # convert to lowercase\n",
    "    text = text.lower()\n",
    "    return text\n",
    "\n",
    "\n",
    "\n",
    "# load credentials from file\n",
    "with open('client_secret.json') as f:\n",
    "    data = json.load(f)\n",
    "    client_id = data['client_id']\n",
    "    client_secret = data['client_secret']\n",
    "    user_agent = data['user_agent']\n",
    "\n",
    "reddit = praw.Reddit(client_id=client_id, client_secret=client_secret, user_agent=user_agent)\n",
    "\n",
    "subreddits = reddit.subreddits.popular(limit=1)\n",
    "for subreddit in subreddits:\n",
    "    subreddit_top_comments = []\n",
    "    # Get the top 10 hot posts from the subreddit\n",
    "    hot_posts = subreddit.hot(limit=10)\n",
    "    for post in hot_posts:\n",
    "        # Get top 10 comments from the post\n",
    "        comments = post.comments.list()[:10]\n",
    "        for comment in comments:\n",
    "            subreddit_top_comments.append(comment.body)\n",
    "\n",
    "    # preprocess text\n",
    "    subreddit_top_comments = [preprocess(comment) for comment in subreddit_top_comments]\n",
    "    # write to file with subreddit name\n",
    "    with open(subreddit.display_name + '.txt', 'w') as f:\n",
    "        for comment in subreddit_top_comments:\n",
    "            f.write(comment + '\\n')\n",
    "\n",
    "\n"
   ]
  },
  {
   "cell_type": "code",
   "execution_count": 15,
   "metadata": {},
   "outputs": [
    {
     "name": "stdout",
     "output_type": "stream",
     "text": [
      "['__abstractmethods__', '__class__', '__class_getitem__', '__delattr__', '__dict__', '__dir__', '__doc__', '__eq__', '__format__', '__ge__', '__getattribute__', '__gt__', '__hash__', '__init__', '__init_subclass__', '__iter__', '__le__', '__lt__', '__module__', '__ne__', '__new__', '__next__', '__orig_bases__', '__parameters__', '__reduce__', '__reduce_ex__', '__repr__', '__setattr__', '__sizeof__', '__slots__', '__str__', '__subclasshook__', '__weakref__', '_abc_impl', '_exhausted', '_extract_sublist', '_is_protocol', '_list_index', '_listing', '_next_batch', '_reddit', '_safely_add_arguments', 'limit', 'params', 'parse', 'url', 'yielded']\n",
      "/r/Home/\n",
      "/r/AskReddit/\n",
      "/r/funny/\n",
      "/r/Damnthatsinteresting/\n",
      "/r/worldnews/\n",
      "/r/AmItheAsshole/\n",
      "/r/interestingasfuck/\n",
      "/r/antiwork/\n",
      "/r/facepalm/\n",
      "/r/gaming/\n",
      "/r/Unexpected/\n",
      "/r/pics/\n",
      "/r/WhitePeopleTwitter/\n",
      "/r/LivestreamFail/\n",
      "/r/pcmasterrace/\n",
      "/r/movies/\n",
      "/r/therewasanattempt/\n",
      "/r/leagueoflegends/\n",
      "/r/diablo4/\n",
      "/r/videos/\n",
      "/r/DestinyTheGame/\n",
      "/r/PublicFreakout/\n",
      "/r/mildlyinfuriating/\n",
      "/r/NoStupidQuestions/\n",
      "/r/explainlikeimfive/\n"
     ]
    }
   ],
   "source": [
    "subreddit = reddit.subreddit('all').hot(limit=1)\n",
    "# list all attributes of the subreddit object\n",
    "print(dir(subreddit))\n",
    "\n",
    "# get top 25 subreddits\n",
    "top_subreddits = reddit.subreddits.popular(limit=25)\n",
    "for subreddit in top_subreddits:\n",
    "    print(subreddit.url)\n"
   ]
  }
 ],
 "metadata": {
  "kernelspec": {
   "display_name": "base",
   "language": "python",
   "name": "python3"
  },
  "language_info": {
   "codemirror_mode": {
    "name": "ipython",
    "version": 3
   },
   "file_extension": ".py",
   "mimetype": "text/x-python",
   "name": "python",
   "nbconvert_exporter": "python",
   "pygments_lexer": "ipython3",
   "version": "3.9.13"
  },
  "orig_nbformat": 4
 },
 "nbformat": 4,
 "nbformat_minor": 2
}
