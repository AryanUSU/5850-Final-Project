{
 "cells": [
  {
   "cell_type": "code",
   "execution_count": 1,
   "id": "32f9a236",
   "metadata": {},
   "outputs": [],
   "source": [
    "import random\n",
    "import nltk\n",
    "from nltk.corpus import stopwords\n",
    "from nltk.stem import WordNetLemmatizer"
   ]
  },
  {
   "cell_type": "code",
   "execution_count": 2,
   "id": "0d671f48",
   "metadata": {},
   "outputs": [],
   "source": [
    "# List of top 25 subreddit names to read files\n",
    "subredditNames = [\"AmItheAsshole\", \"AskReddit\", \"Damnthatsinteresting\", \"DestinyTheGame\", \n",
    "                  \"Home\", \"LivestreamFail\", \"NoStupidQuestions\", \"PublicFreakout\", \"Unexpected\", \n",
    "                  \"WhitePeopleTwitter\", \"antiwork\", \"diablo4\", \"explainlikeimfive\", \"facepalm\", \n",
    "                  \"funny\", \"gaming\", \"interestingasfuck\", \"leagueoflegends\", \"mildlyinfuriating\", \n",
    "                  \"movies\", \"pcmasterrace\", \"pics\", \"therewasanattempt\", \"videos\", \"worldnews\"]"
   ]
  },
  {
   "cell_type": "code",
   "execution_count": 3,
   "id": "ed736b6d",
   "metadata": {},
   "outputs": [],
   "source": [
    "# Updates the true count of tokens in subreddit\n",
    "def UpdateTrueCount(trueCount, token):\n",
    "    if token in trueCount:\n",
    "        trueCount[token] += 1\n",
    "    else:\n",
    "        trueCount[token] = 1"
   ]
  },
  {
   "cell_type": "code",
   "execution_count": 4,
   "id": "a9295b15",
   "metadata": {},
   "outputs": [],
   "source": [
    "def FalsePositiveRate(buffer, trueCount, m, k):\n",
    "    fpr = 0\n",
    "    for key in buffer.keys():\n",
    "        if trueCount[key] < (m / k):\n",
    "            fpr += 1\n",
    "        \n",
    "    return fpr / len(buffer)"
   ]
  },
  {
   "cell_type": "code",
   "execution_count": 9,
   "id": "6be7ba11",
   "metadata": {},
   "outputs": [],
   "source": [
    "# Prints out the first n tokens with the highest count in a subreddit\n",
    "def nHighestCount(trueCount, n):\n",
    "    # Sort the trueCount\n",
    "    sortedDict = {k: v for k, v in sorted(trueCount.items(), key=lambda item: item[1], reverse=True)}\n",
    "    \n",
    "    # Print first n values\n",
    "    print({k: sortedDict[k] for k in list(sortedDict)[:n]})"
   ]
  },
  {
   "cell_type": "code",
   "execution_count": 5,
   "id": "e65d09c2",
   "metadata": {},
   "outputs": [],
   "source": [
    "# Basic Misra-Gries algorithm\n",
    "def MisraGries(token, buffer, k): \n",
    "    if token in buffer:\n",
    "        buffer[token] = buffer[token] + 1\n",
    "    elif len(buffer) < k-1:\n",
    "        buffer[token] = 1\n",
    "    else:\n",
    "        keys = list(buffer.keys())\n",
    "        for key in keys:\n",
    "            buffer[key] -= 1\n",
    "            if buffer[key] == 0:\n",
    "                del buffer[key]"
   ]
  },
  {
   "cell_type": "code",
   "execution_count": 6,
   "id": "76e36eff",
   "metadata": {},
   "outputs": [],
   "source": [
    "# Needs uncommenting if not downloaded\n",
    "# nltk.download('omw-1.4')\n",
    "# nltk.download('stopwords')\n",
    "# nltk.download('wordnet')\n",
    "\n",
    "wordnet_lemmatizer = WordNetLemmatizer()\n",
    "stop = stopwords.words('english')\n",
    "stop.append(\"like\")\n",
    "stop.append(\"get\")\n",
    "\n",
    "# Checks if a word is a common word, url, and lemmatizes the word\n",
    "def CommonWord(word):\n",
    "    isCommonWord = False\n",
    "\n",
    "    if len(word) <= 1 or word in stop: isCommonWord = True\n",
    "    elif word.startswith('https://') or word.startswith('http://'): isCommonWord = True\n",
    "\n",
    "    # Performs Lemmatization\n",
    "    word = wordnet_lemmatizer.lemmatize(word)\n",
    "    \n",
    "    return word, isCommonWord"
   ]
  },
  {
   "cell_type": "code",
   "execution_count": 7,
   "id": "ab1e11ae",
   "metadata": {
    "scrolled": false
   },
   "outputs": [
    {
     "name": "stdout",
     "output_type": "stream",
     "text": [
      "AmItheAsshole\n",
      "False Positive Rate:  0.7090909090909091 \n",
      "\n",
      "AskReddit\n",
      "False Positive Rate:  0.8105436573311368 \n",
      "\n",
      "Damnthatsinteresting\n",
      "False Positive Rate:  0.8230088495575221 \n",
      "\n",
      "DestinyTheGame\n",
      "False Positive Rate:  0.7767722473604827 \n",
      "\n",
      "Home\n",
      "False Positive Rate:  0.8127544097693351 \n",
      "\n",
      "LivestreamFail\n",
      "False Positive Rate:  0.6882217090069284 \n",
      "\n",
      "NoStupidQuestions\n",
      "False Positive Rate:  0.7216035634743875 \n",
      "\n",
      "PublicFreakout\n",
      "False Positive Rate:  0.7712177121771218 \n",
      "\n",
      "Unexpected\n",
      "False Positive Rate:  0.8215712383488681 \n",
      "\n",
      "WhitePeopleTwitter\n",
      "False Positive Rate:  0.7218390804597701 \n",
      "\n",
      "antiwork\n",
      "False Positive Rate:  0.7293577981651376 \n",
      "\n",
      "diablo4\n",
      "False Positive Rate:  0.7670250896057348 \n",
      "\n",
      "explainlikeimfive\n",
      "False Positive Rate:  0.8360655737704918 \n",
      "\n",
      "facepalm\n",
      "False Positive Rate:  0.6588235294117647 \n",
      "\n",
      "funny\n",
      "False Positive Rate:  0.6917808219178082 \n",
      "\n",
      "gaming\n",
      "False Positive Rate:  0.779467680608365 \n",
      "\n",
      "interestingasfuck\n",
      "False Positive Rate:  0.7711538461538462 \n",
      "\n",
      "leagueoflegends\n",
      "False Positive Rate:  0.8369987063389392 \n",
      "\n",
      "mildlyinfuriating\n",
      "False Positive Rate:  0.8063439065108514 \n",
      "\n",
      "movies\n",
      "False Positive Rate:  0.7265822784810126 \n",
      "\n",
      "pcmasterrace\n",
      "False Positive Rate:  0.7639639639639639 \n",
      "\n",
      "pics\n",
      "False Positive Rate:  0.8300907911802854 \n",
      "\n",
      "therewasanattempt\n",
      "False Positive Rate:  0.778175313059034 \n",
      "\n",
      "videos\n",
      "False Positive Rate:  0.7808471454880295 \n",
      "\n",
      "worldnews\n",
      "False Positive Rate:  0.7780487804878049 \n",
      "\n"
     ]
    }
   ],
   "source": [
    "# Buffer information for all subreddits combined\n",
    "fullBuffer = {}\n",
    "fullCount = {}\n",
    "fullK = 801\n",
    "fullM = 0\n",
    "\n",
    "# Perform Misra-Gries on each subreddit separately\n",
    "for subreddit in subredditNames:\n",
    "    print(subreddit)\n",
    "    with open('Reddit_Comments/' + subreddit + '.txt') as f:\n",
    "        buffer = {}\n",
    "        trueCount = {}\n",
    "        k = 801 # Buffer size of 800 chosen after testing false-positive rates\n",
    "        m = 0\n",
    "        for line in f:\n",
    "            tokens = line.split()\n",
    "            random.shuffle(tokens) # Randomizes the tokens for each reply\n",
    "            for token in tokens:\n",
    "                token, isCommonWord = CommonWord(token)\n",
    "                if isCommonWord: continue # Don't run through algorithm if word is \"common\"\n",
    "                \n",
    "                m += 1\n",
    "                MisraGries(token, buffer, k)\n",
    "                \n",
    "                fullM += 1\n",
    "                MisraGries(token, fullBuffer, fullK)\n",
    "                \n",
    "                UpdateTrueCount(trueCount, token)\n",
    "                UpdateTrueCount(fullCount, token)\n",
    "            \n",
    "#     print(buffer)\n",
    "#     nHighestCount(trueCount, 10)\n",
    "    print(\"False Positive Rate: \", FalsePositiveRate(buffer, trueCount, m, k), '\\n')"
   ]
  },
  {
   "cell_type": "code",
   "execution_count": 10,
   "id": "0b8d8055",
   "metadata": {},
   "outputs": [
    {
     "name": "stdout",
     "output_type": "stream",
     "text": [
      "False Positive Rate:  0.7670588235294118 \n",
      "\n",
      "{'people': 9077, 'one': 8795, 'would': 8517, 'time': 7365, 'make': 5857, 'think': 5836, 'game': 5663, 'know': 5379, 'even': 5345, 'thing': 5261, 'want': 4798, 'good': 4769, 'need': 4705, 'go': 4628, 'year': 4605, 'also': 4472, 'really': 4361, 'way': 4350, 'see': 4332, 'look': 3915, 'still': 3879, 'much': 3873, 'work': 3817, 'could': 3787, 'going': 3735}\n"
     ]
    }
   ],
   "source": [
    "# Print out the FPR and top 25 highest used words across all 25 subreddits\n",
    "print(\"False Positive Rate: \", FalsePositiveRate(fullBuffer, fullCount, fullM, fullK), '\\n')\n",
    "nHighestCount(fullCount, 25)"
   ]
  }
 ],
 "metadata": {
  "kernelspec": {
   "display_name": "Python 3 (ipykernel)",
   "language": "python",
   "name": "python3"
  },
  "language_info": {
   "codemirror_mode": {
    "name": "ipython",
    "version": 3
   },
   "file_extension": ".py",
   "mimetype": "text/x-python",
   "name": "python",
   "nbconvert_exporter": "python",
   "pygments_lexer": "ipython3",
   "version": "3.9.13"
  }
 },
 "nbformat": 4,
 "nbformat_minor": 5
}
